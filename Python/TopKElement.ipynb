{
 "cells": [
  {
   "cell_type": "code",
   "execution_count": 21,
   "metadata": {},
   "outputs": [
    {
     "name": "stdout",
     "output_type": "stream",
     "text": [
      "[[], [], [], [], [], []]\n"
     ]
    }
   ],
   "source": [
    "nums = [1, 1, 1, 2, 3]\n",
    "k = 1\n",
    "count = {}\n",
    "freq = [[] for i in range(len(nums) + 1)]\n",
    "print(freq)"
   ]
  },
  {
   "cell_type": "code",
   "execution_count": 22,
   "metadata": {},
   "outputs": [
    {
     "name": "stdout",
     "output_type": "stream",
     "text": [
      "1\n",
      "{1: 1}\n",
      "1\n",
      "{1: 2}\n",
      "1\n",
      "{1: 3}\n",
      "2\n",
      "{1: 3, 2: 1}\n",
      "3\n",
      "{1: 3, 2: 1, 3: 1}\n"
     ]
    }
   ],
   "source": [
    "for num in nums:\n",
    "    print(num)\n",
    "    count[num] = 1 + count.get(num, 0)\n",
    "    print(count)\n"
   ]
  },
  {
   "cell_type": "code",
   "execution_count": 23,
   "metadata": {},
   "outputs": [
    {
     "name": "stdout",
     "output_type": "stream",
     "text": [
      "1\n",
      "3\n",
      "[[], [], [], [1], [], []]\n",
      "2\n",
      "1\n",
      "[[], [2], [], [1], [], []]\n",
      "3\n",
      "1\n",
      "[[], [2, 3], [], [1], [], []]\n"
     ]
    }
   ],
   "source": [
    "for n, c in count.items():\n",
    "    print(n)\n",
    "    print(c)\n",
    "    freq[c].append(n)\n",
    "    print(freq)\n"
   ]
  },
  {
   "cell_type": "code",
   "execution_count": 24,
   "metadata": {},
   "outputs": [],
   "source": [
    "res = []\n",
    "for i in range(len(freq) - 1, 0, -1):\n",
    "    for n in freq[i]:\n",
    "        if len(res)<k:\n",
    "            res.append(n)\n",
    "#        if len(res) == k:\n",
    "#            break\n"
   ]
  },
  {
   "cell_type": "code",
   "execution_count": 25,
   "metadata": {},
   "outputs": [
    {
     "name": "stdout",
     "output_type": "stream",
     "text": [
      "[1]\n"
     ]
    }
   ],
   "source": [
    "print(res)"
   ]
  },
  {
   "cell_type": "code",
   "execution_count": null,
   "metadata": {},
   "outputs": [],
   "source": []
  }
 ],
 "metadata": {
  "kernelspec": {
   "display_name": "Python 3",
   "language": "python",
   "name": "python3"
  },
  "language_info": {
   "codemirror_mode": {
    "name": "ipython",
    "version": 3
   },
   "file_extension": ".py",
   "mimetype": "text/x-python",
   "name": "python",
   "nbconvert_exporter": "python",
   "pygments_lexer": "ipython3",
   "version": "3.12.1"
  }
 },
 "nbformat": 4,
 "nbformat_minor": 2
}
