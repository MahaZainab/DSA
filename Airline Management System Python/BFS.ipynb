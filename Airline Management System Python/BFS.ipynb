{
 "cells": [
  {
   "cell_type": "markdown",
   "metadata": {},
   "source": [
    "# Implementing the Graph from Scratch\n",
    "First, I am going to create a Graph class that represents the airline network using an adjacency list."
   ]
  },
  {
   "cell_type": "code",
   "execution_count": 1,
   "metadata": {},
   "outputs": [],
   "source": [
    "class Graph:\n",
    "    def __init__(self):\n",
    "        self.adjacency_list = {}\n",
    "\n",
    "    def add_airport(self, airport):\n",
    "        if airport not in self.adjacency_list:\n",
    "            self.adjacency_list[airport] = []\n",
    "\n",
    "    def add_flight(self, origin, destination, distance):\n",
    "        if origin not in self.adjacency_list:\n",
    "            self.add_airport(origin)\n",
    "        if destination not in self.adjacency_list:\n",
    "            self.add_airport(destination)\n",
    "        self.adjacency_list[origin].append((destination, distance))\n",
    "\n",
    "    def get_neighbors(self, airport):\n",
    "        return self.adjacency_list.get(airport, [])\n"
   ]
  },
  {
   "cell_type": "code",
   "execution_count": null,
   "metadata": {},
   "outputs": [],
   "source": []
  },
  {
   "cell_type": "markdown",
   "metadata": {},
   "source": [
    "# Implementing a Custom Queue"
   ]
  },
  {
   "cell_type": "markdown",
   "metadata": {},
   "source": [
    "As we need a queue date structure to implement BFS route discovery, I  am going to code Queue from scratch"
   ]
  },
  {
   "cell_type": "code",
   "execution_count": 2,
   "metadata": {},
   "outputs": [],
   "source": [
    "class Node:\n",
    "    def __init__(self, data):\n",
    "        self.data = data\n",
    "        self.next = None\n",
    "\n",
    "class Queue:\n",
    "    def __init__(self):\n",
    "        self.front = None\n",
    "        self.rear = None\n",
    "\n",
    "    def is_empty(self):\n",
    "        return self.front is None\n",
    "\n",
    "    def enqueue(self, item):\n",
    "        new_node = Node(item)\n",
    "        if self.rear is None:\n",
    "            self.front = self.rear = new_node\n",
    "            return\n",
    "        self.rear.next = new_node\n",
    "        self.rear = new_node\n",
    "\n",
    "    def dequeue(self):\n",
    "        if self.is_empty():\n",
    "            raise IndexError(\"Queue is empty\")\n",
    "        temp = self.front\n",
    "        self.front = temp.next\n",
    "        if self.front is None:\n",
    "            self.rear = None\n",
    "        return temp.data\n",
    "\n",
    "    def peek(self):\n",
    "        if self.is_empty():\n",
    "            raise IndexError(\"Queue is empty\")\n",
    "        return self.front.data\n"
   ]
  },
  {
   "cell_type": "markdown",
   "metadata": {},
   "source": [
    "# BFS Algorithm Implementation\n",
    "Now, I am going to implement the BFS algorithm using the Queue, I have already created above."
   ]
  },
  {
   "cell_type": "code",
   "execution_count": 3,
   "metadata": {},
   "outputs": [],
   "source": [
    "def bfs_route_discovery(graph, start, end, max_layovers):\n",
    "    queue = Queue()\n",
    "    queue.enqueue((start, [start], 0))  # (current_airport, path_taken, cumulative_distance)\n",
    "    routes = []\n",
    "\n",
    "    while not queue.is_empty():\n",
    "        current_airport, path, distance = queue.dequeue()\n",
    "\n",
    "        # If we have reached the destination within the layover limit, record the route\n",
    "        if current_airport == end:\n",
    "            if len(path) - 2 <= max_layovers:  # -2 because the start and end are not considered layovers\n",
    "                routes.append((path, distance))\n",
    "            continue\n",
    "\n",
    "        # If we have reached the layover limit, do not explore further\n",
    "        if len(path) - 1 > max_layovers + 1:  # +1 because the start is not considered a layover\n",
    "            continue\n",
    "\n",
    "        for neighbor, flight_distance in graph.get_neighbors(current_airport):\n",
    "            if neighbor not in path:  # Avoid cycles\n",
    "                new_path = path + [neighbor]\n",
    "                new_distance = distance + flight_distance\n",
    "                queue.enqueue((neighbor, new_path, new_distance))\n",
    "\n",
    "    return routes\n"
   ]
  },
  {
   "cell_type": "code",
   "execution_count": null,
   "metadata": {},
   "outputs": [],
   "source": []
  }
 ],
 "metadata": {
  "kernelspec": {
   "display_name": "Python 3",
   "language": "python",
   "name": "python3"
  },
  "language_info": {
   "codemirror_mode": {
    "name": "ipython",
    "version": 3
   },
   "file_extension": ".py",
   "mimetype": "text/x-python",
   "name": "python",
   "nbconvert_exporter": "python",
   "pygments_lexer": "ipython3",
   "version": "3.12.1"
  }
 },
 "nbformat": 4,
 "nbformat_minor": 2
}
